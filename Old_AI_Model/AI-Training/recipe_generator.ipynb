{
 "cells": [
  {
   "cell_type": "code",
   "execution_count": 1,
   "metadata": {
    "_cell_guid": "b1076dfc-b9ad-4769-8c92-a6c4dae69d19",
    "_uuid": "8f2839f25d086af736a60e9eeb907d3b93b6e0e5",
    "execution": {
     "iopub.execute_input": "2024-11-17T10:12:46.422816Z",
     "iopub.status.busy": "2024-11-17T10:12:46.418736Z",
     "iopub.status.idle": "2024-11-17T10:12:50.135716Z",
     "shell.execute_reply": "2024-11-17T10:12:50.134691Z",
     "shell.execute_reply.started": "2024-11-17T10:12:46.422779Z"
    },
    "trusted": true
   },
   "outputs": [],
   "source": [
    "# Import required libraries\n",
    "import pandas as pd\n",
    "import numpy as np\n",
    "import torch\n",
    "import torch.nn as nn\n",
    "from torch.utils.data import Dataset, DataLoader\n",
    "from transformers import GPT2Tokenizer, GPT2LMHeadModel, GPT2Config\n",
    "from transformers import AdamW, get_linear_schedule_with_warmup\n",
    "from sklearn.model_selection import train_test_split\n",
    "import json\n",
    "from tqdm import tqdm\n",
    "import gc\n",
    "import warnings\n",
    "warnings.filterwarnings('ignore')"
   ]
  },
  {
   "cell_type": "code",
   "execution_count": 36,
   "metadata": {},
   "outputs": [],
   "source": [
    "num_epochs = 15"
   ]
  },
  {
   "cell_type": "code",
   "execution_count": 30,
   "metadata": {
    "execution": {
     "iopub.execute_input": "2024-11-17T10:12:50.142316Z",
     "iopub.status.busy": "2024-11-17T10:12:50.14193Z",
     "iopub.status.idle": "2024-11-17T10:13:03.24432Z",
     "shell.execute_reply": "2024-11-17T10:13:03.243224Z",
     "shell.execute_reply.started": "2024-11-17T10:12:50.142271Z"
    },
    "trusted": true
   },
   "outputs": [
    {
     "name": "stdout",
     "output_type": "stream",
     "text": [
      "Total recipes loaded: 231637\n",
      "\n",
      "Sample formatted recipe:\n",
      "Ingredients: winter squash, mexican seasoning, mixed spice, honey, butter, olive oil, salt\n",
      "Instructions: ['make a choice and proceed with recipe', 'depending on size of squash , cut into half or fourths', 'remove seeds', 'for spicy squash , drizzle olive oil or melted butter over each cut squash piece', 'season with mexican seasoning mix ii', 'for sweet squash , drizzle melted honey , butter , grated piloncillo over each cut squash piece', 'season with sweet mexican spice mix', 'bake at 350 degrees , again depending on size , for 40 minutes up to an hour , until a fork can easily pierce the skin', 'be careful not to burn the squash especially if you opt to use sugar or butter', 'if you feel more comfortable , cover the squash with aluminum foil the first half hour , give or take , of baking', 'if desired , season with salt']\n"
     ]
    }
   ],
   "source": [
    "# Cell 3: Load and Preprocess Data\n",
    "#recipes_df = pd.read_csv('/kaggle/input/food-com-recipes-and-user-interactions/RAW_recipes.csv')\n",
    "recipes_df = pd.read_csv('./Data/RAW_recipes.csv')\n",
    "# Convert ingredients list from string to actual list\n",
    "recipes_df['ingredients'] = recipes_df['ingredients'].apply(eval)\n",
    "\n",
    "# Create text format for each recipe\n",
    "def format_recipe(row):\n",
    "    return f\"Ingredients: {', '.join(row['ingredients'])}\\nInstructions: {row['steps']}\"\n",
    "\n",
    "recipes_df['formatted_text'] = recipes_df.apply(format_recipe, axis=1)\n",
    "print(f\"Total recipes loaded: {len(recipes_df)}\")\n",
    "print(\"\\nSample formatted recipe:\")\n",
    "print(recipes_df['formatted_text'].iloc[0])\n"
   ]
  },
  {
   "cell_type": "code",
   "execution_count": 44,
   "metadata": {},
   "outputs": [
    {
     "name": "stdout",
     "output_type": "stream",
     "text": [
      "Index(['name', 'id', 'minutes', 'contributor_id', 'submitted', 'tags',\n",
      "       'nutrition', 'n_steps', 'steps', 'description', 'ingredients',\n",
      "       'n_ingredients', 'formatted_text'],\n",
      "      dtype='object')\n"
     ]
    }
   ],
   "source": [
    "print(recipes_df.columns)"
   ]
  },
  {
   "cell_type": "code",
   "execution_count": 31,
   "metadata": {
    "execution": {
     "iopub.execute_input": "2024-11-17T10:13:03.245673Z",
     "iopub.status.busy": "2024-11-17T10:13:03.245373Z",
     "iopub.status.idle": "2024-11-17T10:13:03.253465Z",
     "shell.execute_reply": "2024-11-17T10:13:03.252371Z",
     "shell.execute_reply.started": "2024-11-17T10:13:03.245642Z"
    },
    "trusted": true
   },
   "outputs": [],
   "source": [
    "# Cell 4: Define Dataset Class\n",
    "class RecipeDataset(Dataset):\n",
    "    def __init__(self, texts, tokenizer, max_length=512):\n",
    "        self.texts = texts\n",
    "        self.tokenizer = tokenizer\n",
    "        self.max_length = max_length\n",
    "    \n",
    "    def __len__(self):\n",
    "        return len(self.texts)\n",
    "    \n",
    "    def __getitem__(self, idx):\n",
    "        text = self.texts[idx]\n",
    "        \n",
    "        encodings = self.tokenizer(\n",
    "            text,\n",
    "            truncation=True,\n",
    "            max_length=self.max_length,\n",
    "            padding='max_length',\n",
    "            return_tensors='pt'\n",
    "        )\n",
    "        \n",
    "        input_ids = encodings['input_ids'].squeeze()\n",
    "        attention_mask = encodings['attention_mask'].squeeze()\n",
    "        \n",
    "        return {\n",
    "            'input_ids': input_ids,\n",
    "            'attention_mask': attention_mask,\n",
    "            'labels': input_ids\n",
    "        }\n"
   ]
  },
  {
   "cell_type": "code",
   "execution_count": 32,
   "metadata": {
    "execution": {
     "iopub.execute_input": "2024-11-17T10:13:03.256649Z",
     "iopub.status.busy": "2024-11-17T10:13:03.256323Z",
     "iopub.status.idle": "2024-11-17T10:13:03.264152Z",
     "shell.execute_reply": "2024-11-17T10:13:03.263278Z",
     "shell.execute_reply.started": "2024-11-17T10:13:03.256617Z"
    },
    "trusted": true
   },
   "outputs": [],
   "source": [
    "# Cell 5: Define Model Architecture\n",
    "class LightweightGPT2(nn.Module):\n",
    "    def __init__(self, vocab_size, hidden_size=256, num_layers=4, num_heads=4):\n",
    "        super().__init__()\n",
    "        self.config = GPT2Config(\n",
    "            vocab_size=vocab_size,\n",
    "            n_positions=512,\n",
    "            n_ctx=512,\n",
    "            n_embd=hidden_size,\n",
    "            n_layer=num_layers,\n",
    "            n_head=num_heads,\n",
    "            bos_token_id=50256,\n",
    "            eos_token_id=50256\n",
    "        )\n",
    "        self.model = GPT2LMHeadModel(self.config)\n",
    "    \n",
    "    def forward(self, input_ids, attention_mask=None, labels=None):\n",
    "        return self.model(\n",
    "            input_ids=input_ids,\n",
    "            attention_mask=attention_mask,\n",
    "            labels=labels\n",
    "        )\n"
   ]
  },
  {
   "cell_type": "code",
   "execution_count": 33,
   "metadata": {
    "execution": {
     "iopub.execute_input": "2024-11-17T10:13:03.265732Z",
     "iopub.status.busy": "2024-11-17T10:13:03.265383Z",
     "iopub.status.idle": "2024-11-17T10:13:03.586564Z",
     "shell.execute_reply": "2024-11-17T10:13:03.585275Z",
     "shell.execute_reply.started": "2024-11-17T10:13:03.265701Z"
    },
    "trusted": true
   },
   "outputs": [
    {
     "name": "stdout",
     "output_type": "stream",
     "text": [
      "Training samples: 208473\n",
      "Validation samples: 23164\n"
     ]
    }
   ],
   "source": [
    "# Cell 6: Initialize Tokenizer and Create Datasets\n",
    "tokenizer = GPT2Tokenizer.from_pretrained('gpt2')\n",
    "tokenizer.pad_token = tokenizer.eos_token\n",
    "\n",
    "# Split data\n",
    "train_texts, val_texts = train_test_split(\n",
    "    recipes_df['formatted_text'].tolist(),\n",
    "    test_size=0.1,\n",
    "    random_state=42\n",
    ")\n",
    "\n",
    "# Create datasets\n",
    "train_dataset = RecipeDataset(train_texts, tokenizer)\n",
    "val_dataset = RecipeDataset(val_texts, tokenizer)\n",
    "\n",
    "# Create dataloaders\n",
    "train_loader = DataLoader(train_dataset, batch_size=8, shuffle=True)\n",
    "val_loader = DataLoader(val_dataset, batch_size=8)\n",
    "\n",
    "print(f\"Training samples: {len(train_texts)}\")\n",
    "print(f\"Validation samples: {len(val_texts)}\")\n",
    "\n"
   ]
  },
  {
   "cell_type": "code",
   "execution_count": null,
   "metadata": {},
   "outputs": [],
   "source": [
    "print(val_dataset)"
   ]
  },
  {
   "cell_type": "code",
   "execution_count": 34,
   "metadata": {
    "execution": {
     "iopub.execute_input": "2024-11-17T10:13:03.58799Z",
     "iopub.status.busy": "2024-11-17T10:13:03.587696Z",
     "iopub.status.idle": "2024-11-17T10:13:04.585327Z",
     "shell.execute_reply": "2024-11-17T10:13:04.584558Z",
     "shell.execute_reply.started": "2024-11-17T10:13:03.587959Z"
    },
    "trusted": true
   },
   "outputs": [
    {
     "name": "stdout",
     "output_type": "stream",
     "text": [
      "Using device: cuda\n"
     ]
    }
   ],
   "source": [
    "# Cell 7: Initialize Model and Training Components\n",
    "device = torch.device('cuda' if torch.cuda.is_available() else 'cpu')\n",
    "print(f\"Using device: {device}\")\n",
    "\n",
    "model = LightweightGPT2(vocab_size=tokenizer.vocab_size)\n",
    "model = model.to(device)\n",
    "\n",
    "optimizer = AdamW(model.parameters(), lr=5e-5)\n",
    "scheduler = get_linear_schedule_with_warmup(\n",
    "    optimizer,\n",
    "    num_warmup_steps=0,\n",
    "    #num_training_steps=len(train_loader) * 3  # 3 epochs\n",
    "    num_training_steps=len(train_loader) * num_epochs\n",
    ")\n"
   ]
  },
  {
   "cell_type": "code",
   "execution_count": 35,
   "metadata": {},
   "outputs": [],
   "source": [
    "train_loss = []\n",
    "val_loss = []"
   ]
  },
  {
   "cell_type": "code",
   "execution_count": 37,
   "metadata": {
    "execution": {
     "iopub.execute_input": "2024-11-17T10:13:04.587175Z",
     "iopub.status.busy": "2024-11-17T10:13:04.586607Z",
     "iopub.status.idle": "2024-11-17T14:47:26.72357Z",
     "shell.execute_reply": "2024-11-17T14:47:26.722243Z",
     "shell.execute_reply.started": "2024-11-17T10:13:04.587129Z"
    },
    "trusted": true
   },
   "outputs": [
    {
     "name": "stderr",
     "output_type": "stream",
     "text": [
      "Epoch 1/15: 100%|██████████| 26060/26060 [59:00<00:00,  7.36it/s]\n",
      "Validation: 100%|██████████| 2896/2896 [02:10<00:00, 22.20it/s]\n"
     ]
    },
    {
     "name": "stdout",
     "output_type": "stream",
     "text": [
      "Epoch 1:\n",
      "Average training loss: 0.9919\n",
      "Average validation loss: 0.7435\n",
      "Saved new best model!\n"
     ]
    },
    {
     "name": "stderr",
     "output_type": "stream",
     "text": [
      "Epoch 2/15: 100%|██████████| 26060/26060 [59:52<00:00,  7.25it/s] \n",
      "Validation: 100%|██████████| 2896/2896 [02:10<00:00, 22.23it/s]\n"
     ]
    },
    {
     "name": "stdout",
     "output_type": "stream",
     "text": [
      "Epoch 2:\n",
      "Average training loss: 0.7346\n",
      "Average validation loss: 0.6791\n",
      "Saved new best model!\n"
     ]
    },
    {
     "name": "stderr",
     "output_type": "stream",
     "text": [
      "Epoch 3/15: 100%|██████████| 26060/26060 [59:54<00:00,  7.25it/s] \n",
      "Validation: 100%|██████████| 2896/2896 [02:11<00:00, 22.08it/s]\n"
     ]
    },
    {
     "name": "stdout",
     "output_type": "stream",
     "text": [
      "Epoch 3:\n",
      "Average training loss: 0.6911\n",
      "Average validation loss: 0.6503\n",
      "Saved new best model!\n"
     ]
    },
    {
     "name": "stderr",
     "output_type": "stream",
     "text": [
      "Epoch 4/15: 100%|██████████| 26060/26060 [1:00:01<00:00,  7.24it/s]\n",
      "Validation: 100%|██████████| 2896/2896 [02:09<00:00, 22.29it/s]\n"
     ]
    },
    {
     "name": "stdout",
     "output_type": "stream",
     "text": [
      "Epoch 4:\n",
      "Average training loss: 0.6682\n",
      "Average validation loss: 0.6346\n",
      "Saved new best model!\n"
     ]
    },
    {
     "name": "stderr",
     "output_type": "stream",
     "text": [
      "Epoch 5/15: 100%|██████████| 26060/26060 [1:00:02<00:00,  7.23it/s]\n",
      "Validation: 100%|██████████| 2896/2896 [02:11<00:00, 22.06it/s]\n"
     ]
    },
    {
     "name": "stdout",
     "output_type": "stream",
     "text": [
      "Epoch 5:\n",
      "Average training loss: 0.6535\n",
      "Average validation loss: 0.6229\n",
      "Saved new best model!\n"
     ]
    },
    {
     "name": "stderr",
     "output_type": "stream",
     "text": [
      "Epoch 6/15: 100%|██████████| 26060/26060 [1:00:03<00:00,  7.23it/s]\n",
      "Validation: 100%|██████████| 2896/2896 [02:09<00:00, 22.35it/s]\n"
     ]
    },
    {
     "name": "stdout",
     "output_type": "stream",
     "text": [
      "Epoch 6:\n",
      "Average training loss: 0.6430\n",
      "Average validation loss: 0.6154\n",
      "Saved new best model!\n"
     ]
    },
    {
     "name": "stderr",
     "output_type": "stream",
     "text": [
      "Epoch 7/15: 100%|██████████| 26060/26060 [1:00:00<00:00,  7.24it/s]\n",
      "Validation: 100%|██████████| 2896/2896 [02:11<00:00, 22.11it/s]\n"
     ]
    },
    {
     "name": "stdout",
     "output_type": "stream",
     "text": [
      "Epoch 7:\n",
      "Average training loss: 0.6349\n",
      "Average validation loss: 0.6090\n",
      "Saved new best model!\n"
     ]
    },
    {
     "name": "stderr",
     "output_type": "stream",
     "text": [
      "Epoch 8/15: 100%|██████████| 26060/26060 [1:00:01<00:00,  7.24it/s]\n",
      "Validation: 100%|██████████| 2896/2896 [02:10<00:00, 22.27it/s]\n"
     ]
    },
    {
     "name": "stdout",
     "output_type": "stream",
     "text": [
      "Epoch 8:\n",
      "Average training loss: 0.6285\n",
      "Average validation loss: 0.6036\n",
      "Saved new best model!\n"
     ]
    },
    {
     "name": "stderr",
     "output_type": "stream",
     "text": [
      "Epoch 9/15: 100%|██████████| 26060/26060 [1:00:04<00:00,  7.23it/s]\n",
      "Validation: 100%|██████████| 2896/2896 [02:11<00:00, 22.06it/s]\n"
     ]
    },
    {
     "name": "stdout",
     "output_type": "stream",
     "text": [
      "Epoch 9:\n",
      "Average training loss: 0.6233\n",
      "Average validation loss: 0.6003\n",
      "Saved new best model!\n"
     ]
    },
    {
     "name": "stderr",
     "output_type": "stream",
     "text": [
      "Epoch 10/15: 100%|██████████| 26060/26060 [1:00:06<00:00,  7.23it/s]\n",
      "Validation: 100%|██████████| 2896/2896 [02:10<00:00, 22.16it/s]\n"
     ]
    },
    {
     "name": "stdout",
     "output_type": "stream",
     "text": [
      "Epoch 10:\n",
      "Average training loss: 0.6189\n",
      "Average validation loss: 0.5968\n",
      "Saved new best model!\n"
     ]
    },
    {
     "name": "stderr",
     "output_type": "stream",
     "text": [
      "Epoch 11/15: 100%|██████████| 26060/26060 [1:00:12<00:00,  7.21it/s]\n",
      "Validation: 100%|██████████| 2896/2896 [02:10<00:00, 22.12it/s]\n"
     ]
    },
    {
     "name": "stdout",
     "output_type": "stream",
     "text": [
      "Epoch 11:\n",
      "Average training loss: 0.6151\n",
      "Average validation loss: 0.5938\n",
      "Saved new best model!\n"
     ]
    },
    {
     "name": "stderr",
     "output_type": "stream",
     "text": [
      "Epoch 12/15: 100%|██████████| 26060/26060 [1:00:07<00:00,  7.22it/s]\n",
      "Validation: 100%|██████████| 2896/2896 [02:11<00:00, 22.01it/s]\n"
     ]
    },
    {
     "name": "stdout",
     "output_type": "stream",
     "text": [
      "Epoch 12:\n",
      "Average training loss: 0.6120\n",
      "Average validation loss: 0.5915\n",
      "Saved new best model!\n"
     ]
    },
    {
     "name": "stderr",
     "output_type": "stream",
     "text": [
      "Epoch 13/15: 100%|██████████| 26060/26060 [1:00:10<00:00,  7.22it/s]\n",
      "Validation: 100%|██████████| 2896/2896 [02:10<00:00, 22.21it/s]\n"
     ]
    },
    {
     "name": "stdout",
     "output_type": "stream",
     "text": [
      "Epoch 13:\n",
      "Average training loss: 0.6090\n",
      "Average validation loss: 0.5893\n",
      "Saved new best model!\n"
     ]
    },
    {
     "name": "stderr",
     "output_type": "stream",
     "text": [
      "Epoch 14/15: 100%|██████████| 26060/26060 [1:00:00<00:00,  7.24it/s]\n",
      "Validation: 100%|██████████| 2896/2896 [02:10<00:00, 22.27it/s]\n"
     ]
    },
    {
     "name": "stdout",
     "output_type": "stream",
     "text": [
      "Epoch 14:\n",
      "Average training loss: 0.6067\n",
      "Average validation loss: 0.5881\n",
      "Saved new best model!\n"
     ]
    },
    {
     "name": "stderr",
     "output_type": "stream",
     "text": [
      "Epoch 15/15: 100%|██████████| 26060/26060 [59:45<00:00,  7.27it/s] \n",
      "Validation: 100%|██████████| 2896/2896 [02:09<00:00, 22.28it/s]\n"
     ]
    },
    {
     "name": "stdout",
     "output_type": "stream",
     "text": [
      "Epoch 15:\n",
      "Average training loss: 0.6049\n",
      "Average validation loss: 0.5873\n",
      "Saved new best model!\n"
     ]
    }
   ],
   "source": [
    "# Cell 8: Training Loop\n",
    "#num_epochs = 5\n",
    "best_val_loss = float('inf')\n",
    "\n",
    "for epoch in range(num_epochs):\n",
    "    # Training phase\n",
    "    model.train()\n",
    "    total_train_loss = 0\n",
    "    \n",
    "    for batch in tqdm(train_loader, desc=f'Epoch {epoch + 1}/{num_epochs}'):\n",
    "        input_ids = batch['input_ids'].to(device)\n",
    "        attention_mask = batch['attention_mask'].to(device)\n",
    "        labels = batch['labels'].to(device)\n",
    "        \n",
    "        outputs = model(\n",
    "            input_ids=input_ids,\n",
    "            attention_mask=attention_mask,\n",
    "            labels=labels\n",
    "        )\n",
    "        \n",
    "        loss = outputs.loss\n",
    "        total_train_loss += loss.item()\n",
    "        \n",
    "        loss.backward()\n",
    "        optimizer.step()\n",
    "        scheduler.step()\n",
    "        optimizer.zero_grad()\n",
    "    \n",
    "    # Validation phase\n",
    "    model.eval()\n",
    "    total_val_loss = 0\n",
    "    \n",
    "    with torch.no_grad():\n",
    "        for batch in tqdm(val_loader, desc='Validation'):\n",
    "            input_ids = batch['input_ids'].to(device)\n",
    "            attention_mask = batch['attention_mask'].to(device)\n",
    "            labels = batch['labels'].to(device)\n",
    "            \n",
    "            outputs = model(\n",
    "                input_ids=input_ids,\n",
    "                attention_mask=attention_mask,\n",
    "                labels=labels\n",
    "            )\n",
    "            \n",
    "            total_val_loss += outputs.loss.item()\n",
    "    \n",
    "    avg_train_loss = total_train_loss / len(train_loader)\n",
    "    avg_val_loss = total_val_loss / len(val_loader)\n",
    "    \n",
    "    print(f'Epoch {epoch + 1}:')\n",
    "    print(f'Average training loss: {avg_train_loss:.4f}')\n",
    "    train_loss.append(avg_train_loss)\n",
    "    print(f'Average validation loss: {avg_val_loss:.4f}')\n",
    "    val_loss.append(avg_val_loss)\n",
    "    \n",
    "    if avg_val_loss < best_val_loss:\n",
    "        best_val_loss = avg_val_loss\n",
    "        #torch.save(model.state_dict(), '/kaggle/working/best_recipe_model.pth')\n",
    "        torch.save(model.state_dict(), './save/best_recipe_model.pth')\n",
    "        print(\"Saved new best model!\")\n"
   ]
  },
  {
   "cell_type": "code",
   "execution_count": 38,
   "metadata": {},
   "outputs": [
    {
     "data": {
      "image/png": "[encoded data removed]",
      "text/plain": [
       "<Figure size 1000x500 with 1 Axes>"
      ]
     },
     "metadata": {},
     "output_type": "display_data"
    }
   ],
   "source": [
    "# Plot losses\n",
    "import matplotlib.pyplot as plt\n",
    "\n",
    "def plot_loss(train_loss, val_loss):\n",
    "    plt.figure(figsize=(10, 5))\n",
    "    plt.plot(train_loss, label='Training Loss', marker='o')\n",
    "    plt.plot(val_loss, label='Validation Loss', marker='s')\n",
    "    plt.xlabel('Epochs')\n",
    "    plt.ylabel('Loss')\n",
    "    plt.title('Training and Validation Loss')\n",
    "    plt.legend()\n",
    "    plt.grid(True)\n",
    "    plt.show()\n",
    "\n",
    "plot_loss(train_loss, val_loss)"
   ]
  },
  {
   "cell_type": "code",
   "execution_count": 40,
   "metadata": {
    "execution": {
     "iopub.execute_input": "2024-11-17T14:47:26.72599Z",
     "iopub.status.busy": "2024-11-17T14:47:26.725595Z",
     "iopub.status.idle": "2024-11-17T14:47:27.459792Z",
     "shell.execute_reply": "2024-11-17T14:47:27.458741Z",
     "shell.execute_reply.started": "2024-11-17T14:47:26.725946Z"
    },
    "trusted": true
   },
   "outputs": [
    {
     "name": "stdout",
     "output_type": "stream",
     "text": [
      "Models and tokenizer saved successfully!\n"
     ]
    }
   ],
   "source": [
    "# Cell 9: Model Quantization\n",
    "model.eval()\n",
    "quantized_model = torch.quantization.quantize_dynamic(\n",
    "    model,\n",
    "    {torch.nn.Linear},\n",
    "    dtype=torch.qint8\n",
    ")\n",
    "\n",
    "# Save quantized model\n",
    "#torch.save(quantized_model.state_dict(), '/kaggle/working/quantized_recipe_model.pth')\n",
    "torch.save(quantized_model.state_dict(), './save/quantized_recipe_model.pth')\n",
    "# Save tokenizer\n",
    "tokenizer.save_pretrained('./save_token/')\n",
    "\n",
    "print(\"Models and tokenizer saved successfully!\")"
   ]
  },
  {
   "cell_type": "code",
   "execution_count": 25,
   "metadata": {
    "execution": {
     "iopub.execute_input": "2024-11-17T14:52:38.781564Z",
     "iopub.status.busy": "2024-11-17T14:52:38.780666Z",
     "iopub.status.idle": "2024-11-17T14:52:38.788865Z",
     "shell.execute_reply": "2024-11-17T14:52:38.787829Z",
     "shell.execute_reply.started": "2024-11-17T14:52:38.781521Z"
    },
    "trusted": true
   },
   "outputs": [],
   "source": [
    "# Cell 10: Test Generation Function\n",
    "def generate_recipe(ingredients, model, tokenizer, device):\n",
    "    model.eval()\n",
    "    \n",
    "    # Format input\n",
    "    input_text = f\"Ingredients: {', '.join(ingredients)}\\nInstructions:\"\n",
    "    \n",
    "    # Tokenize input\n",
    "    inputs = tokenizer(\n",
    "        input_text,\n",
    "        return_tensors='pt',\n",
    "        max_length=512,\n",
    "        truncation=True,\n",
    "        padding=True\n",
    "    ).to(device)\n",
    "    \n",
    "    # Generate recipe\n",
    "    with torch.no_grad():\n",
    "        outputs = model.model.generate(\n",
    "            input_ids=inputs['input_ids'],\n",
    "            attention_mask=inputs['attention_mask'],\n",
    "            max_length=512,\n",
    "            num_return_sequences=1,\n",
    "            temperature=0.7,\n",
    "            top_p=0.9,\n",
    "            do_sample=True\n",
    "        )\n",
    "    \n",
    "    # Decode and return recipe\n",
    "    recipe = tokenizer.decode(outputs[0], skip_special_tokens=True)\n",
    "    return recipe\n"
   ]
  },
  {
   "cell_type": "code",
   "execution_count": 43,
   "metadata": {
    "execution": {
     "iopub.execute_input": "2024-11-17T14:52:44.637137Z",
     "iopub.status.busy": "2024-11-17T14:52:44.636343Z",
     "iopub.status.idle": "2024-11-17T14:52:45.494842Z",
     "shell.execute_reply": "2024-11-17T14:52:45.493577Z",
     "shell.execute_reply.started": "2024-11-17T14:52:44.637097Z"
    },
    "trusted": true
   },
   "outputs": [
    {
     "name": "stderr",
     "output_type": "stream",
     "text": [
      "Setting `pad_token_id` to `eos_token_id`:50256 for open-end generation.\n"
     ]
    },
    {
     "name": "stdout",
     "output_type": "stream",
     "text": [
      "Generated Recipe:\n",
      "Ingredients: chicken breast, rice, soy sauce, garlic\n",
      "Instructions: ['cut chicken into bite size pieces and place in a bowl', 'mix soy sauce , garlic and salt and pour over chicken', 'marinate in refrigerator for 30 minutes', 'drain and place chicken on a baking sheet', 'bake at 375 for 30 minutes', 'baste with soy sauce mixture']\n"
     ]
    }
   ],
   "source": [
    "# Cell 11: Test the Model\n",
    "test_ingredients = ['chicken breast', 'rice', 'soy sauce', 'garlic']\n",
    "recipe = generate_recipe(test_ingredients, model, tokenizer, device)\n",
    "print(\"Generated Recipe:\")\n",
    "print(recipe)"
   ]
  }
 ],
 "metadata": {
  "kaggle": {
   "accelerator": "nvidiaTeslaT4",
   "dataSources": [
    {
     "datasetId": 311962,
     "sourceId": 783630,
     "sourceType": "datasetVersion"
    }
   ],
   "dockerImageVersionId": 30786,
   "isGpuEnabled": true,
   "isInternetEnabled": false,
   "language": "python",
   "sourceType": "notebook"
  },
  "kernelspec": {
   "display_name": "Python 3",
   "language": "python",
   "name": "python3"
  },
  "language_info": {
   "codemirror_mode": {
    "name": "ipython",
    "version": 3
   },
   "file_extension": ".py",
   "mimetype": "text/x-python",
   "name": "python",
   "nbconvert_exporter": "python",
   "pygments_lexer": "ipython3",
   "version": "3.12.1"
  }
 },
 "nbformat": 4,
 "nbformat_minor": 4
}
